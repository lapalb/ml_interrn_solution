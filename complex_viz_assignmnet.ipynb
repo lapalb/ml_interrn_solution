{
 "cells": [
  {
   "cell_type": "markdown",
   "metadata": {},
   "source": [
    "# Task: Making `Complex_Numbers` Package:"
   ]
  },
  {
   "cell_type": "markdown",
   "metadata": {},
   "source": [
    "Note:\n",
    "\n",
    "* You are not allowed to use any internal `complex number` library or a python package that handle complex numbers.\n",
    "* You can use other internal libraries if you like.\n",
    "\n",
    "Define a class called `complex_number` which accepts 2 parameters:\n",
    "\n",
    "* x: int64, float64, represents real component of the complex number\n",
    "* y: int64, float64, represents imaginary component of the complex number\n",
    "\n",
    "Example, `complex_number(3, 5)` means 3 is the real part of the complex number and 5 is the imaginary part of the complex number. Such a number is represented as 3 + 5i.\n",
    "\n",
    "Here is [a resource](http://www.careerbless.com/aptitude/qa/complex_numbers_imp.php) to help you with the required information to solve this assignment. You can take help from other online resources as well.\n",
    "\n",
    "### Questions:\n",
    "\n",
    "Define the follwoing operations for the class: \n",
    "\n",
    "* representation in the form of x + yi when used with `print` command\n",
    "* '+'\n",
    "* '-'\n",
    "* '*'\n",
    "* '/'\n",
    "* abs()\n",
    "\n",
    "* Note that these operations should be compatible with `int` and `float` datatypes as well\n",
    "\n",
    "Also, define following methods.\n",
    "\n",
    "\n",
    "* real() [Returns real component of the complex number]\n",
    "* imag() [Returns complex component of the complex number]\n",
    "* argument() [Returns argument of the complex number]\n",
    "* conjugate() [Returns conjugate of the complex number]\n",
    "\n",
    "Include error handling"
   ]
  },
  {
   "cell_type": "code",
   "execution_count": 77,
   "metadata": {
    "collapsed": true
   },
   "outputs": [],
   "source": [
    "import math\n",
    "class complex_number():\n",
    "    def __init__(self,x=0,y=0):\n",
    "        self.x=x\n",
    "        self.y=y\n",
    "        \n",
    "    def __str__(self):\n",
    "        return (str(self.x) + \"+\"+ str(self.y) + \"i\")\n",
    "    \n",
    "    def real(self):\n",
    "        return self.x\n",
    "    \n",
    "    def imag(self):\n",
    "        return self.y\n",
    "    \n",
    "    def argument(self):\n",
    "        if(self.x==0):\n",
    "            return pi/2\n",
    "        return (math.degrees(math.atan(self.y/self.x)))\n",
    "    def conjugate(self):\n",
    "        return (str(self.y) + \"+\"+ str(self.x) + \"i\")\n",
    "    \n",
    "    def abs(self):\n",
    "        return (math.sqrt((self.x*self.x)+(self.y*self.y)))\n",
    "    \n",
    "    def __add__(self, other):\n",
    "        return complex_number(self.real() + other.real(), self.imag() + other.imag())\n",
    "    \n",
    "    def __sub__(self, other):\n",
    "        return complex_number(self.real() - other.real(),self.imag() - other.imag())\n",
    "\n",
    "    def __mul__(self, other):\n",
    "        return complex_number(self.real()*other.real() - self.imag()*other.imag(), self.imag()*other.real() + self.real()*other.imag())\n"
   ]
  },
  {
   "cell_type": "code",
   "execution_count": 78,
   "metadata": {
    "collapsed": true
   },
   "outputs": [],
   "source": [
    "a1=complex_number(3,4)\n",
    "a2=complex_number(5,5)"
   ]
  },
  {
   "cell_type": "code",
   "execution_count": 79,
   "metadata": {},
   "outputs": [
    {
     "name": "stdout",
     "output_type": "stream",
     "text": [
      "3+4i\n"
     ]
    }
   ],
   "source": [
    "print(a1)"
   ]
  },
  {
   "cell_type": "code",
   "execution_count": 80,
   "metadata": {},
   "outputs": [
    {
     "data": {
      "text/plain": [
       "53.13010235415598"
      ]
     },
     "execution_count": 80,
     "metadata": {},
     "output_type": "execute_result"
    }
   ],
   "source": [
    "a1.argument()"
   ]
  },
  {
   "cell_type": "code",
   "execution_count": 81,
   "metadata": {},
   "outputs": [
    {
     "data": {
      "text/plain": [
       "5.0"
      ]
     },
     "execution_count": 81,
     "metadata": {},
     "output_type": "execute_result"
    }
   ],
   "source": [
    "a1.abs()"
   ]
  },
  {
   "cell_type": "code",
   "execution_count": 82,
   "metadata": {},
   "outputs": [
    {
     "data": {
      "text/plain": [
       "5.0"
      ]
     },
     "execution_count": 82,
     "metadata": {},
     "output_type": "execute_result"
    }
   ],
   "source": [
    "a1.abs()"
   ]
  },
  {
   "cell_type": "code",
   "execution_count": 83,
   "metadata": {},
   "outputs": [
    {
     "name": "stdout",
     "output_type": "stream",
     "text": [
      "8+9i\n"
     ]
    }
   ],
   "source": [
    "w=a1+a2\n",
    "print(w)"
   ]
  },
  {
   "cell_type": "code",
   "execution_count": null,
   "metadata": {
    "collapsed": true
   },
   "outputs": [],
   "source": []
  }
 ],
 "metadata": {
  "kernelspec": {
   "display_name": "Python 3",
   "language": "python",
   "name": "python3"
  },
  "language_info": {
   "codemirror_mode": {
    "name": "ipython",
    "version": 3
   },
   "file_extension": ".py",
   "mimetype": "text/x-python",
   "name": "python",
   "nbconvert_exporter": "python",
   "pygments_lexer": "ipython3",
   "version": "3.6.1"
  },
  "widgets": {
   "state": {},
   "version": "1.1.2"
  }
 },
 "nbformat": 4,
 "nbformat_minor": 2
}
